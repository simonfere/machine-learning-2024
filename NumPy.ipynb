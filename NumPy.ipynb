{
 "cells": [
  {
   "cell_type": "markdown",
   "id": "cc1549b7-23de-40fd-a1f8-215fda0ba7f8",
   "metadata": {},
   "source": [
    "# NumPy"
   ]
  },
  {
   "cell_type": "code",
   "execution_count": 1,
   "id": "216f1ccd-f10b-4770-8fe1-29d223381e9b",
   "metadata": {},
   "outputs": [],
   "source": [
    "import numpy as np"
   ]
  },
  {
   "cell_type": "markdown",
   "id": "ebbceb8f-4526-4b39-8402-a27687129bbc",
   "metadata": {},
   "source": [
    "## Arrays"
   ]
  },
  {
   "cell_type": "markdown",
   "id": "9b2f48b8-451d-4463-8142-b01a14aca901",
   "metadata": {},
   "source": [
    "### Creación arrays"
   ]
  },
  {
   "cell_type": "code",
   "execution_count": null,
   "id": "9f3b8c0d-4e10-4bad-a3f9-755c0873ce66",
   "metadata": {},
   "outputs": [],
   "source": [
    "# Aquí usamos un array unidimensional para crearlo\n",
    "\n",
    "arr = np.array([1, 2, 3, 4, 5])\n",
    "\n",
    "print(arr)\n",
    "\n",
    "print(type(arr))"
   ]
  },
  {
   "cell_type": "code",
   "execution_count": null,
   "id": "60dc4d50-d8fe-41fd-9ebb-63f13979086e",
   "metadata": {},
   "outputs": [],
   "source": [
    "# Aquí usamos una tupla para crearlo\n",
    "\n",
    "arr = np.array((1, 2, 3, 4, 5))\n",
    "\n",
    "print(arr)"
   ]
  },
  {
   "cell_type": "code",
   "execution_count": null,
   "id": "d2dbbc5d-e757-47fa-915e-cffccbba272d",
   "metadata": {},
   "outputs": [],
   "source": [
    "# Aquí usamos un array bidimensional para crearlo\n",
    "\n",
    "arr = np.array([[1, 2, 3], [4, 5, 6]])\n",
    "\n",
    "print(arr)\n",
    "\n",
    "# Y así sucesivamente"
   ]
  },
  {
   "cell_type": "code",
   "execution_count": null,
   "id": "4a7a3e2d-9d2a-4dcc-abe0-1fb3dd9910d0",
   "metadata": {},
   "outputs": [],
   "source": [
    "# Para comprobar el numero de dimensiones de un array usamos ndim\n",
    "\n",
    "a = np.array(42)\n",
    "b = np.array([1, 2, 3, 4, 5])\n",
    "c = np.array([[1, 2, 3], [4, 5, 6]])\n",
    "\n",
    "print(a.ndim)\n",
    "print(b.ndim)\n",
    "print(c.ndim)"
   ]
  },
  {
   "cell_type": "code",
   "execution_count": null,
   "id": "7c7b5c13-8469-40be-9cee-75dba3ccf409",
   "metadata": {},
   "outputs": [],
   "source": [
    "# Para crear un array con un número concreto de dimensiones, usamos ndmin dentro de np.array\n",
    "\n",
    "arr = np.array([1, 2, 3, 4], ndmin=5)\n",
    "\n",
    "print(arr)\n",
    "print('Número de dimensiones :', arr.ndim)"
   ]
  },
  {
   "cell_type": "markdown",
   "id": "f373a9dc-d932-4b21-8143-66eee411eb49",
   "metadata": {},
   "source": [
    "### Manejar los arrays"
   ]
  },
  {
   "cell_type": "code",
   "execution_count": null,
   "id": "a01ec363-817f-48a7-a6ea-ed756a69fd11",
   "metadata": {},
   "outputs": [],
   "source": [
    "# Para obtener el elemento con index en un array unidimensional, se hace como siempre\n",
    "\n",
    "arr = np.array([1, 2, 3, 4])\n",
    "\n",
    "print(arr[0])"
   ]
  },
  {
   "cell_type": "code",
   "execution_count": null,
   "id": "6ebc63ba-154a-4452-b857-a1ddcb2b00cb",
   "metadata": {},
   "outputs": [],
   "source": [
    "# Para obtener el elemento con index en un array bidimensional, en el primer número especificamos el index del array\n",
    "# y en el segundo especificamos el index del elemento dentro del array secundario\n",
    "\n",
    "arr = np.array([[1,2,3,4,5], [6,7,8,9,10]])\n",
    "\n",
    "print('Segundo elemento del primer array: ', arr[0, 1])"
   ]
  },
  {
   "cell_type": "code",
   "execution_count": null,
   "id": "b90c520f-a287-4488-b8e3-395252e68561",
   "metadata": {},
   "outputs": [],
   "source": [
    "# Al igual que en los arrays normales, se puede trabajar con index negativoç\n",
    "\n",
    "arr = np.array([[1,2,3,4,5], [6,7,8,9,10]])\n",
    "\n",
    "print('Último elemento del segundo array: ', arr[1, -1])"
   ]
  },
  {
   "cell_type": "code",
   "execution_count": null,
   "id": "b17b48b6-93d5-4cc1-a226-b27bc303ed6b",
   "metadata": {},
   "outputs": [],
   "source": [
    "# Al igual que con los arrays normales, se puede seleccionar solamente un rango de datos de un array\n",
    "\n",
    "arr = np.array([1, 2, 3, 4, 5, 6, 7])\n",
    "\n",
    "print(arr[1:5])\n",
    "\n",
    "# ------------------------------------ #\n",
    "\n",
    "arr = np.array([1, 2, 3, 4, 5, 6, 7])\n",
    "\n",
    "print(arr[4:])\n",
    "\n",
    "# ------------------------------------ #\n",
    "\n",
    "arr = np.array([1, 2, 3, 4, 5, 6, 7])\n",
    "\n",
    "print(arr[:4])\n",
    "\n",
    "# ------------------------------------ #\n",
    "\n",
    "arr = np.array([1, 2, 3, 4, 5, 6, 7])\n",
    "\n",
    "print(arr[-3:-1])"
   ]
  },
  {
   "cell_type": "code",
   "execution_count": null,
   "id": "318807a0-5de6-4e98-be23-7e81ac8cbbf5",
   "metadata": {},
   "outputs": [],
   "source": [
    "# También se aplican las mismas reglas para los arrays bidimensionales\n",
    "\n",
    "arr = np.array([[1, 2, 3, 4, 5], [6, 7, 8, 9, 10]])\n",
    "\n",
    "print(arr[1, 1:4])\n",
    "\n",
    "# ------------------------------------ #\n",
    "\n",
    "arr = np.array([[1, 2, 3, 4, 5], [6, 7, 8, 9, 10]])\n",
    "\n",
    "print(arr[0:2, 2])\n",
    "\n",
    "# ------------------------------------ #\n",
    "\n",
    "arr = np.array([[1, 2, 3, 4, 5], [6, 7, 8, 9, 10]])\n",
    "\n",
    "print(arr[0:2, 1:4])"
   ]
  },
  {
   "cell_type": "markdown",
   "id": "acb1b398-5b30-444c-b6cb-dd48afd36897",
   "metadata": {},
   "source": [
    "### Tipos de datos en los arrays"
   ]
  },
  {
   "cell_type": "code",
   "execution_count": null,
   "id": "2593b1f9-8630-4d1c-9fbb-7a1b384e1e53",
   "metadata": {},
   "outputs": [],
   "source": [
    "# Con la función dtype, podemos obtener el tipo de datos que contiene un array\n",
    "\n",
    "arr = np.array([1, 2, 3, 4])\n",
    "\n",
    "print(arr.dtype)\n",
    "\n",
    "# ------------------------------------ #\n",
    "\n",
    "arr = np.array(['apple', 'banana', 'cherry'])\n",
    "\n",
    "print(arr.dtype)"
   ]
  },
  {
   "cell_type": "code",
   "execution_count": null,
   "id": "d10a5a02-ce90-47de-a83d-7753f7270ab4",
   "metadata": {},
   "outputs": [],
   "source": [
    "# En algunos casos podemos determinar el tipo de datos que queremos que haya en un array \n",
    "# [en este caso, un array de 4 bits = int32]\n",
    "\n",
    "arr = np.array([1, 2, 3, 4], dtype='i4')\n",
    "\n",
    "print(arr)\n",
    "print(arr.dtype)"
   ]
  },
  {
   "cell_type": "code",
   "execution_count": null,
   "id": "f07087e4-b3c2-4933-a432-6e33daaee7e3",
   "metadata": {},
   "outputs": [],
   "source": [
    "# Puede haber errores, por ejemplo, en el siguiente caso ['a' no puede pasar a ser tipo int]\n",
    "\n",
    "# arr = np.array(['a', '2', '3'], dtype='i')"
   ]
  },
  {
   "cell_type": "code",
   "execution_count": null,
   "id": "892a2994-9edb-4f57-ad72-9bba41455aa1",
   "metadata": {},
   "outputs": [],
   "source": [
    "# Con la función astype podemos cambiar el tipo de datos dentro de un array [aquí pasa de float64 a int32]\n",
    "\n",
    "arr = np.array([1.1, 2.1, 3.1])\n",
    "\n",
    "print(arr.dtype)\n",
    "\n",
    "newarr = arr.astype('i')\n",
    "\n",
    "print(newarr)\n",
    "print(newarr.dtype)\n",
    "\n",
    "# ------------------------------------ #\n",
    "\n",
    "arr = np.array([1, 0, 3])\n",
    "\n",
    "newarr = arr.astype(bool)\n",
    "\n",
    "print(newarr)\n",
    "print(newarr.dtype)"
   ]
  },
  {
   "cell_type": "markdown",
   "id": "20fd4baa-8f3d-462b-9a5e-bc8d9524c3fc",
   "metadata": {},
   "source": [
    "# AQUI VA UN HUECO PARA EXPLICAR LOS NUMPLY ARRAY VIEW Y COPY"
   ]
  },
  {
   "cell_type": "markdown",
   "id": "01217486-6c33-40c9-83b8-be6cefb4c69f",
   "metadata": {},
   "source": [
    "### Redimension de arrays"
   ]
  },
  {
   "cell_type": "code",
   "execution_count": null,
   "id": "9aed477b-bebc-47ad-8b16-f2aa6c3635be",
   "metadata": {},
   "outputs": [],
   "source": [
    "# Con la función reshape podemos modificar las dimensiones del array, poniendo en el primer parámetro\n",
    "# El número de arrays y el número de elementos por array [tiene que cuadrar, si no da error]\n",
    "\n",
    "arr = np.array([1, 2, 3, 4, 5, 6, 7, 8, 9, 10, 11, 12])\n",
    "\n",
    "print(arr)\n",
    "\n",
    "newarr = arr.reshape(4, 3)\n",
    "\n",
    "print(newarr)\n",
    "\n",
    "# ------------------------------------ #\n",
    "\n",
    "arr = np.array([1, 2, 3, 4, 5, 6, 7, 8, 9, 10, 11, 12])\n",
    "\n",
    "print(arr)\n",
    "\n",
    "newarr = arr.reshape(2, 3, 2)\n",
    "\n",
    "print(newarr)"
   ]
  },
  {
   "cell_type": "code",
   "execution_count": null,
   "id": "a998da6b-6af6-46fe-be0e-23785fd7555c",
   "metadata": {},
   "outputs": [],
   "source": [
    "# Para volver a convertir los arrays en una sola dimensión, basta con pasarle de parámetro -1\n",
    "\n",
    "arr = np.array([[1, 2, 3], [4, 5, 6]])\n",
    "\n",
    "print(arr)\n",
    "\n",
    "newarr = arr.reshape(-1)\n",
    "\n",
    "print(newarr)"
   ]
  },
  {
   "cell_type": "markdown",
   "id": "beee0e3f-46ae-4679-9250-b0b35f02a781",
   "metadata": {},
   "source": [
    "### Recorrer los arrays"
   ]
  },
  {
   "cell_type": "code",
   "execution_count": null,
   "id": "17c56b8b-b55e-4558-ac1a-802f3c924de5",
   "metadata": {},
   "outputs": [],
   "source": [
    "# Se pueden recorrer como los arrays normales\n",
    "\n",
    "arr = np.array([1, 2, 3])\n",
    "\n",
    "for x in arr:\n",
    "  print(x)\n",
    "\n",
    "# ------------------------------------ #\n",
    "print(\"-*-*-*-*-*-*-*-\")\n",
    "arr = np.array([[1, 2, 3], [4, 5, 6]])\n",
    "\n",
    "for x in arr:\n",
    "  print(x)\n",
    "\n",
    "# ------------------------------------ #\n",
    "print(\"-*-*-*-*-*-*-*-\")\n",
    "arr = np.array([[1, 2, 3], [4, 5, 6]])\n",
    "\n",
    "for x in arr:\n",
    "  for y in x:\n",
    "    print(y)\n",
    "\n",
    "# ------------------------------------ # \n",
    "print(\"-*-*-*-*-*-*-*-\")\n",
    "arr = np.array([[[1, 2, 3], [4, 5, 6]], [[7, 8, 9], [10, 11, 12]]])\n",
    "\n",
    "for x in arr:\n",
    "  for y in x:\n",
    "    for z in y:\n",
    "      print(z)"
   ]
  },
  {
   "cell_type": "code",
   "execution_count": null,
   "id": "3886cae0-e93d-4d26-b2e9-ee745430b073",
   "metadata": {},
   "outputs": [],
   "source": [
    "# También se puede utilizar la función nditer()\n",
    "\n",
    "arr = np.array([[[1, 2], [3, 4]], [[5, 6], [7, 8]]])\n",
    "\n",
    "for x in np.nditer(arr):\n",
    "  print(x)"
   ]
  },
  {
   "cell_type": "code",
   "execution_count": null,
   "id": "13e66972-a855-4ec1-9f58-1bb0a32ec186",
   "metadata": {},
   "outputs": [],
   "source": [
    "# Para poder enumerar los elementos de los arrays cuando los imprimes, se usa la función ndenumerate()\n",
    "\n",
    "arr = np.array([1, 2, 3])\n",
    "\n",
    "for idx, x in np.ndenumerate(arr):\n",
    "  print(idx, x)\n",
    "\n",
    "# ------------------------------------ # \n",
    "print(\"-*-*-*-*-*-*-*-\")\n",
    "\n",
    "arr = np.array([[1, 2, 3, 4], [5, 6, 7, 8]])\n",
    "\n",
    "for idx, x in np.ndenumerate(arr):\n",
    "  print(idx, x)"
   ]
  },
  {
   "cell_type": "markdown",
   "id": "17bdc770-1a78-43ce-863a-e10ef6d7f96a",
   "metadata": {},
   "source": [
    "### Unir los arrays (JOIN)"
   ]
  },
  {
   "cell_type": "code",
   "execution_count": null,
   "id": "521ddd5a-ea1c-47df-a241-6bdbc38562a0",
   "metadata": {},
   "outputs": [],
   "source": [
    "# Básicamente une los dos arrays en un array unidimensional con la función concatenate()\n",
    "\n",
    "arr1 = np.array([1, 2, 3])\n",
    "\n",
    "arr2 = np.array([4, 5, 6])\n",
    "\n",
    "arr = np.concatenate((arr1, arr2))\n",
    "\n",
    "print(arr)"
   ]
  },
  {
   "cell_type": "code",
   "execution_count": null,
   "id": "be8cabf4-5a8f-4421-9e17-c8c20c98854e",
   "metadata": {},
   "outputs": [],
   "source": [
    "# En este caso si añadimos el parámetro axis y le damos un valor de 1, nos crea un array bidimensional\n",
    "# Con los dos arrays en la posicion 0 juntos en un array, y los dos arrays en la posicion 1 juntos también\n",
    "\n",
    "# QUEDAR CLARO REVISAR QUEDAR CLARO REVISAR QUEDAR CLARO REVISAR QUEDAR CLARO REVISAR\n",
    "\n",
    "arr1 = np.array([[1, 2], [3, 4]])\n",
    "\n",
    "arr2 = np.array([[5, 6], [7, 8]])\n",
    "\n",
    "arr = np.concatenate((arr1, arr2), axis=1)\n",
    "\n",
    "print(arr)"
   ]
  },
  {
   "cell_type": "code",
   "execution_count": null,
   "id": "884ff08c-851a-445e-8f9d-81419f578e06",
   "metadata": {},
   "outputs": [],
   "source": [
    "# Con la función stack(), si le damos el valor axis=0, nos crea un array bidimensional simple\n",
    "# Si le pasamos como valor 1, nos crea un array de tres dimensiones organizado por index\n",
    "\n",
    "arr1 = np.array([1, 2, 3])\n",
    "\n",
    "arr2 = np.array([4, 5, 6])\n",
    "\n",
    "arr = np.stack((arr1, arr2), axis=1)\n",
    "\n",
    "print(arr)"
   ]
  },
  {
   "cell_type": "code",
   "execution_count": null,
   "id": "af7a8adc-5f8c-4158-8e0e-2187f4e7c51e",
   "metadata": {},
   "outputs": [],
   "source": [
    "# Utilizando la función hstack(), nos crea un array juntando por filas\n",
    "\n",
    "arr1 = np.array([1, 2, 3])\n",
    "\n",
    "arr2 = np.array([4, 5, 6])\n",
    "\n",
    "arr = np.hstack((arr1, arr2))\n",
    "\n",
    "print(arr)"
   ]
  },
  {
   "cell_type": "code",
   "execution_count": null,
   "id": "9dde2ca0-4577-430f-b4c2-bc02f5503d16",
   "metadata": {},
   "outputs": [],
   "source": [
    "# Utilizando la función vstack(), nos crea un array de x dimensiones\n",
    "\n",
    "arr1 = np.array([1, 2, 3])\n",
    "\n",
    "arr2 = np.array([4, 5, 6])\n",
    "\n",
    "arr = np.vstack((arr1, arr2))\n",
    "\n",
    "print(arr)"
   ]
  },
  {
   "cell_type": "code",
   "execution_count": null,
   "id": "400445d4-3280-40f1-8740-3df13e2e63ba",
   "metadata": {},
   "outputs": [],
   "source": [
    "# Utilizando la función dstack(), nos crea un array juntando por el elemento que tienen debajo (?\n",
    "\n",
    "arr1 = np.array([1, 2, 3])\n",
    "\n",
    "arr2 = np.array([4, 5, 6])\n",
    "\n",
    "arr = np.dstack((arr1, arr2))\n",
    "\n",
    "print(arr)"
   ]
  },
  {
   "cell_type": "markdown",
   "id": "b2a38052-98c2-4e57-ba56-c923b8971cc3",
   "metadata": {},
   "source": [
    "### Separar los arrays"
   ]
  },
  {
   "cell_type": "code",
   "execution_count": null,
   "id": "23d1e510-bfb9-4a28-93d5-9eec5d5f963d",
   "metadata": {},
   "outputs": [],
   "source": [
    "# Con la función array_split(), divide el array en x arrrays nuevos, quedando un array de arrays [si te pasas del limite, los crea vacíos]\n",
    " \n",
    "arr = np.array([1, 2, 3, 4, 5, 6])\n",
    "\n",
    "newarr = np.array_split(arr, 7)\n",
    "\n",
    "print(newarr)"
   ]
  },
  {
   "cell_type": "code",
   "execution_count": 6,
   "id": "a925085e-1ef2-4921-8e53-177de748b435",
   "metadata": {},
   "outputs": [
    {
     "name": "stdout",
     "output_type": "stream",
     "text": [
      "[array([[1, 2],\n",
      "       [3, 4]]), array([[5, 6],\n",
      "       [7, 8]]), array([[ 9, 10],\n",
      "       [11, 12]])]\n"
     ]
    }
   ],
   "source": [
    "# En caso de este array de x dimensiones, si ponemos de parámetro 3, se crea un array de 4 arrays bidimensionales\n",
    "\n",
    "arr = np.array([[1, 2], [3, 4], [5, 6], [7, 8], [9, 10], [11, 12]])\n",
    "\n",
    "newarr = np.array_split(arr, 3)\n",
    "\n",
    "print(newarr)"
   ]
  },
  {
   "cell_type": "markdown",
   "id": "26c0b535-eca7-44e7-b1a6-8d0cb2f995bb",
   "metadata": {},
   "source": [
    "### Buscar en los arrays"
   ]
  },
  {
   "cell_type": "code",
   "execution_count": 13,
   "id": "80ebea32-54a1-4e6d-a5dc-f2447201b376",
   "metadata": {},
   "outputs": [
    {
     "name": "stdout",
     "output_type": "stream",
     "text": [
      "(array([3, 5, 6], dtype=int64),)\n",
      "(array([1, 3, 5, 7], dtype=int64),)\n",
      "3\n"
     ]
    }
   ],
   "source": [
    "# La función where, que funciona igual que un if, devuelve los index donde está el elemento dado. También funciona con expresiones\n",
    "\n",
    "arr = np.array([1, 2, 3, 4, 5, 4, 4])\n",
    "\n",
    "x = np.where(arr == 4)\n",
    "\n",
    "print(x)\n",
    "\n",
    "# ------------------------------------ # \n",
    "\n",
    "arr = np.array([1, 2, 3, 4, 5, 6, 7, 8])\n",
    "\n",
    "x = np.where(arr%2 == 0)\n",
    "\n",
    "print(x)"
   ]
  },
  {
   "cell_type": "code",
   "execution_count": 14,
   "id": "0fb9803f-6212-4398-ad6b-2aa6dfbcfca7",
   "metadata": {},
   "outputs": [
    {
     "name": "stdout",
     "output_type": "stream",
     "text": [
      "2\n"
     ]
    }
   ],
   "source": [
    "# Con la función searchsorted() se puede saber la posición en la que un elemento debe ser insertado para seguir el orden del array\n",
    "\n",
    "arr = np.array([6, 7, 8, 9])\n",
    "\n",
    "x = np.searchsorted(arr, 7.5)\n",
    "\n",
    "print(x)\n",
    "\n",
    "# ------------------------------------ # \n",
    "\n",
    "arr = np.array([6, 7, 8, 9])\n",
    "\n",
    "x = np.searchsorted(arr, 7, side='right')\n",
    "\n",
    "print(x)"
   ]
  },
  {
   "cell_type": "code",
   "execution_count": null,
   "id": "9cf66644-ae8e-41a9-9a69-b2049d23f20c",
   "metadata": {},
   "outputs": [],
   "source": []
  }
 ],
 "metadata": {
  "kernelspec": {
   "display_name": "Python 3 (ipykernel)",
   "language": "python",
   "name": "python3"
  },
  "language_info": {
   "codemirror_mode": {
    "name": "ipython",
    "version": 3
   },
   "file_extension": ".py",
   "mimetype": "text/x-python",
   "name": "python",
   "nbconvert_exporter": "python",
   "pygments_lexer": "ipython3",
   "version": "3.11.7"
  }
 },
 "nbformat": 4,
 "nbformat_minor": 5
}
