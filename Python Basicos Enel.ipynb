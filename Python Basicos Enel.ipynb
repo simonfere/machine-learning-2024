{
 "cells": [
  {
   "cell_type": "markdown",
   "id": "f5b8fe8d-daae-4f0e-8303-5bbe09bc221d",
   "metadata": {},
   "source": [
    "# Python básico"
   ]
  },
  {
   "cell_type": "code",
   "execution_count": null,
   "id": "d71fc011-5304-4cca-94b2-d3fe246dc823",
   "metadata": {},
   "outputs": [],
   "source": [
    "# Para imprimir usar el comando print()\n",
    "\n",
    "print(\"Hola como estamos\")"
   ]
  },
  {
   "cell_type": "markdown",
   "id": "4d49b0d8-971d-4af9-a2d1-8a16646a3fee",
   "metadata": {},
   "source": [
    "## Operadores aritméticos"
   ]
  },
  {
   "cell_type": "code",
   "execution_count": 2,
   "id": "012ec761-482c-4901-8341-ce34ae98259c",
   "metadata": {},
   "outputs": [
    {
     "name": "stdout",
     "output_type": "stream",
     "text": [
      "7\n",
      "-1\n",
      "12\n",
      "0.75\n",
      "3\n",
      "81\n",
      "81\n"
     ]
    }
   ],
   "source": [
    "print(3+4) # suma\n",
    "\n",
    "print(3-4) # resta\n",
    "\n",
    "print(3*4) # multiplicacion\n",
    "\n",
    "print(3/4) # division\n",
    "\n",
    "print(3%4) # resto\n",
    "\n",
    "print(3**4) # potencia (b**e)\n",
    "\n",
    "print(pow(3,4)) # potencia"
   ]
  },
  {
   "cell_type": "markdown",
   "id": "e2921ab6-d16c-4aa6-8597-cf0f3b8a04e5",
   "metadata": {},
   "source": [
    "## Tipos de datos"
   ]
  },
  {
   "cell_type": "code",
   "execution_count": 3,
   "id": "93bfc9bc-1651-4c01-bebf-c159524c8b18",
   "metadata": {},
   "outputs": [],
   "source": [
    "string = \"probando\"\n",
    "\n",
    "int = 2\n",
    "\n",
    "float = 3.53\n",
    "\n",
    "complex = 1j # ni idea, no usar\n",
    "\n",
    "list = [1, 2, 3, 4, 5, 6, 9]\n",
    "\n",
    "tuple = (\"hola\", \"que\", \"tal\")\n",
    "\n",
    "range = range(6)\n",
    "\n",
    "dictionary = {\"nombre\" : \"simon\", \"edad\": 21}\n",
    "\n",
    "set = {1, 2, 3, 4}\n",
    "\n",
    "frozenSet = frozenset({\"apple\", \"banana\", \"cherry\"})\n",
    "\n",
    "booleano = True + False"
   ]
  },
  {
   "cell_type": "markdown",
   "id": "7a1ff176-b12e-4bdd-bf89-694cd6407657",
   "metadata": {},
   "source": [
    "## Métodos de string"
   ]
  },
  {
   "cell_type": "code",
   "execution_count": 5,
   "id": "02f32bb4-a627-4d8e-b7a9-cbf28d11f252",
   "metadata": {},
   "outputs": [
    {
     "name": "stdout",
     "output_type": "stream",
     "text": [
      "DISCOTECA\n",
      "discoteca\n",
      "Discoteca\n",
      "  Piscoteca  \n",
      "['Discoteca', ' nocturna']\n",
      "Discoteca nocturna\n",
      "Voy a ir mañana a una discoteca a las 12\n"
     ]
    }
   ],
   "source": [
    "string = \"Discoteca\"\n",
    "\n",
    "print(string.upper()) # pasa todo a mayúsculas\n",
    "print(string.lower()) # pasa todo a minúsculas\n",
    "\n",
    "string = \"  Discoteca  \"\n",
    "\n",
    "print(string.strip()) # elimina los espacios en blanco al principio y al final\n",
    "\n",
    "print(string.replace(\"D\", \"P\")) # sustituye todas las D mayúsculas por P mayúscula ESTA FUNCIÓN ES CASE SENSITIVE\n",
    "\n",
    "string = \"Discoteca, nocturna\"\n",
    "\n",
    "print(string.split(\",\")) # separa las partes del string separadas por lo que le pases como parámetro. te lo convierte en una lista [Discoteca, nocturna]\n",
    "\n",
    "str1 = \"Discoteca \"\n",
    "str2 = \"nocturna\"\n",
    "\n",
    "print(str1+str2) # se pueden sumar los strings (van sin espacio)\n",
    "\n",
    "lugar = \"discoteca\"\n",
    "fecha = \"mañana\"\n",
    "hora = 12\n",
    "\n",
    "string = \"Voy a ir {} a una {} a las {}\"\n",
    "\n",
    "print(string.format(fecha, lugar, hora)) # pone las variables en los lugares donde están los corchetes\n",
    "                                         # dentro de los corchetes se pone el orden si dentro de la función format están todos desordenados\n",
    "\n",
    "# el resto de funciones están aqui https://www.w3schools.com/python/python_strings_methods.asp"
   ]
  },
  {
   "cell_type": "markdown",
   "id": "533af998-a946-474e-aef3-3892aceb9152",
   "metadata": {},
   "source": [
    "## Manejar el contenido de las listas"
   ]
  },
  {
   "cell_type": "code",
   "execution_count": 12,
   "id": "681239c2-baf1-4015-92ec-e530f6351ada",
   "metadata": {},
   "outputs": [
    {
     "name": "stdout",
     "output_type": "stream",
     "text": [
      "['rojo', 'negro', 'amarillo']\n"
     ]
    }
   ],
   "source": [
    "# Reemplazar elemento del index dado\n",
    "\n",
    "lista = [\"rojo\", \"verde\", \"amarillo\"]\n",
    "lista[1] = \"negro\"\n",
    "print(lista)"
   ]
  },
  {
   "cell_type": "code",
   "execution_count": 13,
   "id": "e210100c-cff6-4cf5-9e67-c62294877c2f",
   "metadata": {},
   "outputs": [
    {
     "name": "stdout",
     "output_type": "stream",
     "text": [
      "['rojo', 'negro', 'azul', 'naranja', 'blanco', 'rosa']\n"
     ]
    }
   ],
   "source": [
    "# Reemplazar dos elementos [en este caso el 1 y el 3-1 = 2]\n",
    "\n",
    "lista = [\"rojo\", \"verde\", \"amarillo\", \"naranja\", \"blanco\", \"rosa\"]\n",
    "lista[1:3] = [\"negro\", \"azul\"]\n",
    "print(lista)"
   ]
  },
  {
   "cell_type": "code",
   "execution_count": 14,
   "id": "4e4e9b3a-8df8-4e6d-9714-d493e0f57ef4",
   "metadata": {},
   "outputs": [
    {
     "name": "stdout",
     "output_type": "stream",
     "text": [
      "['rojo', 'negro']\n"
     ]
    }
   ],
   "source": [
    "# Reemplazar dos elementos por uno [en este caso el 1 y el 3-1 = 2 por \"negro\"]\n",
    "\n",
    "lista = [\"rojo\", \"verde\", \"amarillo\"]\n",
    "lista[1:3] = [\"negro\"]\n",
    "print(lista)"
   ]
  },
  {
   "cell_type": "code",
   "execution_count": 15,
   "id": "2104f981-daee-4262-a8b3-5fa947cf2852",
   "metadata": {
    "scrolled": true
   },
   "outputs": [
    {
     "name": "stdout",
     "output_type": "stream",
     "text": [
      "['rojo', 'verde', 'negro', 'amarillo']\n"
     ]
    }
   ],
   "source": [
    "# Insertar un elemento en la posición dada [el elemento insertado pasa a ser el objeto del index 2, en este caso entre verde y amarillo]\n",
    "\n",
    "lista = [\"rojo\", \"verde\", \"amarillo\"]\n",
    "lista.insert(2, \"negro\")\n",
    "print(lista)"
   ]
  },
  {
   "cell_type": "code",
   "execution_count": 16,
   "id": "5edbeb61-8f45-4872-aa52-04fa6055e8dc",
   "metadata": {},
   "outputs": [
    {
     "name": "stdout",
     "output_type": "stream",
     "text": [
      "['rojo', 'verde', 'amarillo', 'naranja']\n"
     ]
    }
   ],
   "source": [
    "# Insertar un elemento al final de la lista\n",
    "\n",
    "lista = [\"rojo\", \"verde\", \"amarillo\"]\n",
    "lista.append(\"naranja\")\n",
    "print(lista)"
   ]
  },
  {
   "cell_type": "code",
   "execution_count": 18,
   "id": "c85edb7f-47d7-48e1-9621-e849446b53a2",
   "metadata": {},
   "outputs": [
    {
     "name": "stdout",
     "output_type": "stream",
     "text": [
      "['rojo', 'verde', 'amarillo', 'rosa', 'blanco', 'negro']\n"
     ]
    }
   ],
   "source": [
    "# Juntar dos arrays [se coloca a continuacion de ultimo elemento del array al que se añade]\n",
    "\n",
    "lista1 = [\"rojo\", \"verde\", \"amarillo\"]\n",
    "lista2 = [\"rosa\", \"blanco\", \"negro\"]\n",
    "\n",
    "lista1.extend(lista2)\n",
    "print(lista1)"
   ]
  },
  {
   "cell_type": "code",
   "execution_count": 19,
   "id": "5b7cf18a-1257-4704-a2be-e92337a9aa13",
   "metadata": {},
   "outputs": [
    {
     "name": "stdout",
     "output_type": "stream",
     "text": [
      "['rojo', 'amarillo']\n"
     ]
    }
   ],
   "source": [
    "# Eliminar un elemento de un array por nombre [solo elimina el primero en caso de que esté repetido]\n",
    "\n",
    "lista = [\"rojo\", \"verde\", \"amarillo\"]\n",
    "lista.remove(\"verde\")\n",
    "print(lista)"
   ]
  },
  {
   "cell_type": "code",
   "execution_count": 21,
   "id": "3e0f1ea6-a129-4a28-bb05-68b7cb94bf69",
   "metadata": {},
   "outputs": [
    {
     "name": "stdout",
     "output_type": "stream",
     "text": [
      "['rojo', 'verde']\n",
      "['rojo', 'verde']\n"
     ]
    }
   ],
   "source": [
    "# Eliminar un elemento de un array por posicion [si está vacío, elimina el último]\n",
    "\n",
    "lista = [\"rojo\", \"verde\", \"amarillo\"]\n",
    "lista.pop(2)\n",
    "print(lista)\n",
    "\n",
    "# Mismo que el anterior pero con la keyword \\del\\\n",
    "\n",
    "lista = [\"rojo\", \"verde\", \"amarillo\"]\n",
    "del lista[2]\n",
    "print(lista)"
   ]
  },
  {
   "cell_type": "code",
   "execution_count": 22,
   "id": "d39f624a-fce6-4d5f-93f7-7de88b6aa55d",
   "metadata": {},
   "outputs": [],
   "source": [
    "# Eliminar la lista al completo\n",
    "\n",
    "lista = [\"rojo\", \"verde\", \"amarillo\"]\n",
    "del lista"
   ]
  },
  {
   "cell_type": "code",
   "execution_count": 23,
   "id": "3a6f75e5-e006-4682-a949-650d2629d31f",
   "metadata": {},
   "outputs": [
    {
     "name": "stdout",
     "output_type": "stream",
     "text": [
      "[]\n"
     ]
    }
   ],
   "source": [
    "# Vaciar la lista\n",
    "\n",
    "lista = [\"rojo\", \"verde\", \"amarillo\"]\n",
    "lista.clear()\n",
    "print(lista)"
   ]
  },
  {
   "cell_type": "markdown",
   "id": "a0e7b063-f429-42a6-bc2c-a690b5144176",
   "metadata": {},
   "source": [
    "## Recorrer las listas"
   ]
  },
  {
   "cell_type": "code",
   "execution_count": 27,
   "id": "0f906a51-7754-4da1-8fbf-dd192f3cbd24",
   "metadata": {},
   "outputs": [
    {
     "name": "stdout",
     "output_type": "stream",
     "text": [
      "rojo\n",
      "verde\n",
      "amarillo\n"
     ]
    }
   ],
   "source": [
    "# Recorrer la lista por nombre \n",
    "\n",
    "lista = [\"rojo\", \"verde\", \"amarillo\"]\n",
    "for x in lista:\n",
    "  print(x)"
   ]
  },
  {
   "cell_type": "code",
   "execution_count": 29,
   "id": "6a3dd2ac-d1bf-4570-91fb-30e15b7e0ddb",
   "metadata": {},
   "outputs": [
    {
     "name": "stdout",
     "output_type": "stream",
     "text": [
      "rojo\n",
      "verde\n",
      "amarillo\n"
     ]
    }
   ],
   "source": [
    "# Recorrer la lista usando un while\n",
    "\n",
    "lista = [\"rojo\", \"verde\", \"amarillo\"]\n",
    "\n",
    "i = 0\n",
    "while i < len(lista):\n",
    "  print(lista[i])\n",
    "  i = i + 1"
   ]
  },
  {
   "cell_type": "markdown",
   "id": "444720be-82b8-4673-aefb-d3a1cded2983",
   "metadata": {},
   "source": [
    "## Ordenar listas"
   ]
  },
  {
   "cell_type": "code",
   "execution_count": 33,
   "id": "35ad450d-0e8e-4f8a-89d4-53179f6b2f54",
   "metadata": {},
   "outputs": [
    {
     "name": "stdout",
     "output_type": "stream",
     "text": [
      "['amarillo', 'blanco', 'naranja', 'negro', 'rojo', 'verde']\n"
     ]
    }
   ],
   "source": [
    "# Ordenar la lista en orden alfanumérico ascendente [la función por defecto es case sensitive]\n",
    "\n",
    "lista = [\"rojo\", \"verde\", \"amarillo\", \"naranja\", \"negro\", \"blanco\"]\n",
    "lista.sort()\n",
    "print(lista)"
   ]
  },
  {
   "cell_type": "code",
   "execution_count": 31,
   "id": "f8ffa174-9fb9-4d2d-9f26-9b34c89b2969",
   "metadata": {},
   "outputs": [
    {
     "name": "stdout",
     "output_type": "stream",
     "text": [
      "['verde', 'rojo', 'negro', 'naranja', 'blanco', 'amarillo']\n"
     ]
    }
   ],
   "source": [
    "# Ordenar la lista en orden alfanumérico descendente\n",
    "\n",
    "lista = [\"rojo\", \"verde\", \"amarillo\", \"naranja\", \"negro\", \"blanco\"]\n",
    "lista.sort(reverse = True)\n",
    "print(lista)"
   ]
  },
  {
   "cell_type": "code",
   "execution_count": 32,
   "id": "0bdf379a-40a1-44f4-b047-9215dc6bdb6c",
   "metadata": {},
   "outputs": [
    {
     "name": "stdout",
     "output_type": "stream",
     "text": [
      "[50, 65, 23, 82, 100]\n"
     ]
    }
   ],
   "source": [
    "# Ordenar la lista según función [en este caso, el ordenados según que cerca están del número 50]\n",
    "\n",
    "def funcion(n):\n",
    "  return abs(n - 50)\n",
    "\n",
    "lista = [100, 50, 65, 82, 23]\n",
    "lista.sort(key = funcion)\n",
    "print(lista)"
   ]
  },
  {
   "cell_type": "code",
   "execution_count": 34,
   "id": "4f7effb3-7981-4c88-9b15-ce0ddc3b1aa6",
   "metadata": {},
   "outputs": [
    {
     "name": "stdout",
     "output_type": "stream",
     "text": [
      "['amarillo', 'Blanco', 'Naranja', 'negro', 'rojo', 'Verde']\n",
      "['Blanco', 'Naranja', 'Verde', 'amarillo', 'negro', 'rojo']\n"
     ]
    }
   ],
   "source": [
    "# Ordenar la lista en orden alfanumérico ascendente sin case sensitive\n",
    "\n",
    "\n",
    "# con key\n",
    "lista = [\"rojo\", \"Verde\", \"amarillo\", \"Naranja\", \"negro\", \"Blanco\"]\n",
    "lista.sort(key = str.lower)\n",
    "print(lista)\n",
    "\n",
    "# sin key\n",
    "\n",
    "# Ordenar la lista en orden alfanumérico ascendente [la función por defecto es case sensitive]\n",
    "\n",
    "lista = [\"rojo\", \"Verde\", \"amarillo\", \"Naranja\", \"negro\", \"Blanco\"]\n",
    "lista.sort()\n",
    "print(lista)"
   ]
  },
  {
   "cell_type": "code",
   "execution_count": 35,
   "id": "50070b1f-b732-42ea-9a39-0e72b94a109d",
   "metadata": {},
   "outputs": [
    {
     "name": "stdout",
     "output_type": "stream",
     "text": [
      "['blanco', 'negro', 'naranja', 'amarillo', 'verde', 'rojo']\n"
     ]
    }
   ],
   "source": [
    "# Ordenar una lista al revés\n",
    "\n",
    "lista = [\"rojo\", \"verde\", \"amarillo\", \"naranja\", \"negro\", \"blanco\"]\n",
    "lista.reverse()\n",
    "print(lista)"
   ]
  },
  {
   "cell_type": "markdown",
   "id": "6f0e9f23-642f-4f95-beec-65248a2db75e",
   "metadata": {},
   "source": [
    "## Manejar el contenido de las tuplas"
   ]
  },
  {
   "cell_type": "code",
   "execution_count": 39,
   "id": "d12dd41d-8853-426a-bbd4-3231f28c8270",
   "metadata": {},
   "outputs": [
    {
     "name": "stdout",
     "output_type": "stream",
     "text": [
      "('rojo', 'amarillo', 'verde')\n",
      "<class 'tuple'>\n"
     ]
    }
   ],
   "source": [
    "# Declarar una tupla\n",
    "\n",
    "tupla = (\"rojo\", \"amarillo\", \"verde\")\n",
    "print(tupla)\n",
    "\n",
    "# Si la tupla es de un solo elemento, hay que crearla de la siguiente manera\n",
    "\n",
    "tupla_uno = (\"rojo\",)\n",
    "print(type(tupla_uno))"
   ]
  },
  {
   "cell_type": "code",
   "execution_count": 37,
   "id": "2ac9d659-ebc2-41ab-b546-da04a1d930f4",
   "metadata": {},
   "outputs": [],
   "source": [
    "# Las tuplas no se pueden volver a ordenar\n",
    "# no pueden ser cambiadas una vez que se han creado"
   ]
  },
  {
   "cell_type": "code",
   "execution_count": 38,
   "id": "35143ed5-b060-477d-a205-b9f6ec349af1",
   "metadata": {},
   "outputs": [
    {
     "name": "stdout",
     "output_type": "stream",
     "text": [
      "('rojo', 'amarillo', 'verde', 'amarillo')\n"
     ]
    }
   ],
   "source": [
    "# Pueden tener elementos repetidos\n",
    "\n",
    "tupla = (\"rojo\", \"amarillo\", \"verde\", \"amarillo\")\n",
    "print(tupla)"
   ]
  },
  {
   "cell_type": "code",
   "execution_count": 41,
   "id": "e65e96f0-6724-4ba5-85e2-977a28a5b49b",
   "metadata": {},
   "outputs": [
    {
     "name": "stdout",
     "output_type": "stream",
     "text": [
      "4\n"
     ]
    }
   ],
   "source": [
    "# Para saber la cantidad de elementos que tiene una tupla se usa la funcion len()\n",
    "\n",
    "tupla = (\"rojo\", \"amarillo\", \"verde\", \"amarillo\")\n",
    "print(len(tupla))"
   ]
  },
  {
   "cell_type": "code",
   "execution_count": 48,
   "id": "16987ea9-425f-4d64-a812-05b19554fffd",
   "metadata": {},
   "outputs": [],
   "source": [
    "# Las tuplas pueden ser de cualquier tipo, y pueden contener varios tipos de variable\n",
    "\n",
    "tupla1 = (\"rojo\", \"amarillo\", \"verde\", \"amarillo\")\n",
    "tupla2 = (1, 5, 7, 9, 3)\n",
    "tupla3 = (True, False, False)\n",
    "tuple4 = (\"abc\", 34, True, 40, \"negro\")"
   ]
  },
  {
   "cell_type": "code",
   "execution_count": 47,
   "id": "71f6787b-aaff-4b6b-aba5-b7c87af99f70",
   "metadata": {},
   "outputs": [
    {
     "name": "stdout",
     "output_type": "stream",
     "text": [
      "verde\n"
     ]
    }
   ],
   "source": [
    "# Seleccionar un elemento de la tupla\n",
    "\n",
    "tupla = (\"rojo\", \"amarillo\", \"verde\", \"amarillo\")\n",
    "print(tupla[2])"
   ]
  },
  {
   "cell_type": "code",
   "execution_count": 46,
   "id": "77a7f966-fa43-48c4-b254-f5594aa18cf4",
   "metadata": {},
   "outputs": [
    {
     "name": "stdout",
     "output_type": "stream",
     "text": [
      "amarillo\n"
     ]
    }
   ],
   "source": [
    "# Si el index es negativo, por ejemplo -1, se refiere al ultimo item\n",
    "\n",
    "tupla = (\"rojo\", \"amarillo\", \"verde\", \"amarillo\")\n",
    "print(tupla[-1])"
   ]
  },
  {
   "cell_type": "code",
   "execution_count": 49,
   "id": "9c163798-bb86-4c09-be2f-1dd2af0cc8c8",
   "metadata": {},
   "outputs": [
    {
     "name": "stdout",
     "output_type": "stream",
     "text": [
      "('amarillo', 'verde')\n"
     ]
    }
   ],
   "source": [
    "# Seleccionar el rango de elementos\n",
    "\n",
    "tupla = (\"rojo\", \"amarillo\", \"verde\", \"amarillo\")\n",
    "print(tupla[1:3])"
   ]
  },
  {
   "cell_type": "code",
   "execution_count": 50,
   "id": "392eb0bc-fefc-4c3b-be68-166773298af4",
   "metadata": {},
   "outputs": [
    {
     "name": "stdout",
     "output_type": "stream",
     "text": [
      "('rojo', 'amarillo', 'verde')\n",
      "('amarillo', 'verde', 'amarillo')\n"
     ]
    }
   ],
   "source": [
    "# Tomando de referencia lo anterior, si quitamos el 1, nos va a coger todos los elementos desde el inicio\n",
    "# Si borramos el 3, nos va a coger todos los objetos desde el 1 hasta el final\n",
    "\n",
    "tupla = (\"rojo\", \"amarillo\", \"verde\", \"amarillo\")\n",
    "print(tupla[:3])\n",
    "\n",
    "tupla = (\"rojo\", \"amarillo\", \"verde\", \"amarillo\")\n",
    "print(tupla[1:])"
   ]
  },
  {
   "cell_type": "code",
   "execution_count": 52,
   "id": "17b96a7a-f9fb-42c6-8f12-8a2a16ff0075",
   "metadata": {},
   "outputs": [
    {
     "name": "stdout",
     "output_type": "stream",
     "text": [
      "('amarillo', 'naranja', 'negro')\n"
     ]
    }
   ],
   "source": [
    "# Lo mismo con los index negativos\n",
    "\n",
    "tupla = (\"rojo\", \"verde\", \"amarillo\", \"naranja\", \"negro\", \"blanco\")\n",
    "print(tupla[-4:-1])"
   ]
  },
  {
   "cell_type": "code",
   "execution_count": 55,
   "id": "ece30200-cc2b-4160-8e23-3e9fdad2cf78",
   "metadata": {},
   "outputs": [
    {
     "name": "stdout",
     "output_type": "stream",
     "text": [
      "Sí está\n"
     ]
    }
   ],
   "source": [
    "# Para comprobar si un elemento existe, basta con un if\n",
    "\n",
    "tupla = (\"rojo\", \"verde\", \"amarillo\", \"naranja\", \"negro\", \"blanco\")\n",
    "if \"verde\" in tupla:\n",
    "  print(\"Sí está\")\n",
    "else:\n",
    "    print(\"No está\")"
   ]
  },
  {
   "cell_type": "code",
   "execution_count": null,
   "id": "18ad0881-fbc7-4699-ba15-fe11e1e22772",
   "metadata": {},
   "outputs": [],
   "source": []
  }
 ],
 "metadata": {
  "kernelspec": {
   "display_name": "Python 3 (ipykernel)",
   "language": "python",
   "name": "python3"
  },
  "language_info": {
   "codemirror_mode": {
    "name": "ipython",
    "version": 3
   },
   "file_extension": ".py",
   "mimetype": "text/x-python",
   "name": "python",
   "nbconvert_exporter": "python",
   "pygments_lexer": "ipython3",
   "version": "3.11.7"
  }
 },
 "nbformat": 4,
 "nbformat_minor": 5
}
